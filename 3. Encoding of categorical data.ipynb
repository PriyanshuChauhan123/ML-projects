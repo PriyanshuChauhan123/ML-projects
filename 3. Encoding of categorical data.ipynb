{
 "cells": [
  {
   "cell_type": "markdown",
   "id": "66b01abf",
   "metadata": {
    "papermill": {
     "duration": 0.00438,
     "end_time": "2024-10-17T05:29:53.518141",
     "exception": false,
     "start_time": "2024-10-17T05:29:53.513761",
     "status": "completed"
    },
    "tags": []
   },
   "source": [
    "# Lab Sheet 3"
   ]
  },
  {
   "cell_type": "markdown",
   "id": "d8fcbc2a",
   "metadata": {
    "papermill": {
     "duration": 0.002759,
     "end_time": "2024-10-17T05:29:53.524249",
     "exception": false,
     "start_time": "2024-10-17T05:29:53.521490",
     "status": "completed"
    },
    "tags": []
   },
   "source": [
    "****"
   ]
  },
  {
   "cell_type": "markdown",
   "id": "6f64cda5",
   "metadata": {
    "papermill": {
     "duration": 0.002888,
     "end_time": "2024-10-17T05:29:53.530130",
     "exception": false,
     "start_time": "2024-10-17T05:29:53.527242",
     "status": "completed"
    },
    "tags": []
   },
   "source": [
    "**For a given set of training data example stored in a.csv file, implement and demonstrate the conversion of categorical data to numeric of tips.csv file using python libraries.**"
   ]
  },
  {
   "cell_type": "markdown",
   "id": "41594cc8",
   "metadata": {
    "papermill": {
     "duration": 0.00273,
     "end_time": "2024-10-17T05:29:53.535823",
     "exception": false,
     "start_time": "2024-10-17T05:29:53.533093",
     "status": "completed"
    },
    "tags": []
   },
   "source": [
    "Dataset: https://www.kaggle.com/datasets/hnazari8665/tipscsv"
   ]
  },
  {
   "cell_type": "code",
   "execution_count": 1,
   "id": "7f3c3830",
   "metadata": {
    "execution": {
     "iopub.execute_input": "2024-10-17T05:29:53.544980Z",
     "iopub.status.busy": "2024-10-17T05:29:53.544594Z",
     "iopub.status.idle": "2024-10-17T05:29:55.322666Z",
     "shell.execute_reply": "2024-10-17T05:29:55.321810Z"
    },
    "papermill": {
     "duration": 1.785431,
     "end_time": "2024-10-17T05:29:55.325140",
     "exception": false,
     "start_time": "2024-10-17T05:29:53.539709",
     "status": "completed"
    },
    "tags": []
   },
   "outputs": [],
   "source": [
    "import pandas as pd\n",
    "import numpy as np\n",
    "from sklearn.preprocessing import LabelEncoder , OneHotEncoder"
   ]
  },
  {
   "cell_type": "code",
   "execution_count": 2,
   "id": "b2f6746e",
   "metadata": {
    "execution": {
     "iopub.execute_input": "2024-10-17T05:29:55.334118Z",
     "iopub.status.busy": "2024-10-17T05:29:55.333133Z",
     "iopub.status.idle": "2024-10-17T05:29:55.366727Z",
     "shell.execute_reply": "2024-10-17T05:29:55.365517Z"
    },
    "papermill": {
     "duration": 0.040113,
     "end_time": "2024-10-17T05:29:55.368851",
     "exception": false,
     "start_time": "2024-10-17T05:29:55.328738",
     "status": "completed"
    },
    "tags": []
   },
   "outputs": [
    {
     "name": "stdout",
     "output_type": "stream",
     "text": [
      "   total_bill   tip     sex smoker  day    time  size  price_per_person  \\\n",
      "0       16.99  1.01  Female     No  Sun  Dinner     2              8.49   \n",
      "1       10.34  1.66    Male     No  Sun  Dinner     3              3.45   \n",
      "2       21.01  3.50    Male     No  Sun  Dinner     3              7.00   \n",
      "3       23.68  3.31    Male     No  Sun  Dinner     2             11.84   \n",
      "4       24.59  3.61  Female     No  Sun  Dinner     4              6.15   \n",
      "\n",
      "           Payer Name         CC Number Payment ID  \n",
      "0  Christy Cunningham  3560325168603410    Sun2959  \n",
      "1      Douglas Tucker  4478071379779230    Sun4608  \n",
      "2      Travis Walters  6011812112971322    Sun4458  \n",
      "3    Nathaniel Harris  4676137647685994    Sun5260  \n",
      "4        Tonya Carter  4832732618637221    Sun2251  \n"
     ]
    }
   ],
   "source": [
    "# Load the dataset \n",
    "df = pd.read_csv('/kaggle/input/categorial-data/tips.csv')\n",
    "\n",
    "# Display the first few rows of the dataframe to understand the structure \n",
    "print(df.head())"
   ]
  },
  {
   "cell_type": "markdown",
   "id": "00dcf392",
   "metadata": {
    "papermill": {
     "duration": 0.003005,
     "end_time": "2024-10-17T05:29:55.375147",
     "exception": false,
     "start_time": "2024-10-17T05:29:55.372142",
     "status": "completed"
    },
    "tags": []
   },
   "source": [
    "# Identify categorical columns \n",
    "\n",
    "**To proceed, you need to identify which columns are categorical. Usually, categorial data can be strings or objects in a dataframe**"
   ]
  },
  {
   "cell_type": "code",
   "execution_count": 3,
   "id": "84bbaa4c",
   "metadata": {
    "execution": {
     "iopub.execute_input": "2024-10-17T05:29:55.383157Z",
     "iopub.status.busy": "2024-10-17T05:29:55.382398Z",
     "iopub.status.idle": "2024-10-17T05:29:55.388211Z",
     "shell.execute_reply": "2024-10-17T05:29:55.387286Z"
    },
    "papermill": {
     "duration": 0.012083,
     "end_time": "2024-10-17T05:29:55.390387",
     "exception": false,
     "start_time": "2024-10-17T05:29:55.378304",
     "status": "completed"
    },
    "tags": []
   },
   "outputs": [
    {
     "name": "stdout",
     "output_type": "stream",
     "text": [
      "total_bill          float64\n",
      "tip                 float64\n",
      "sex                  object\n",
      "smoker               object\n",
      "day                  object\n",
      "time                 object\n",
      "size                  int64\n",
      "price_per_person    float64\n",
      "Payer Name           object\n",
      "CC Number             int64\n",
      "Payment ID           object\n",
      "dtype: object\n"
     ]
    }
   ],
   "source": [
    "# Display colum type to find which ones are categorical\n",
    "print(df.dtypes)\n",
    "#alternatively, you can manually list the columns \n",
    "categorical_columns = ['sex','smoker','day','time'] # example categories in tips dataset\n"
   ]
  },
  {
   "cell_type": "markdown",
   "id": "635ea716",
   "metadata": {
    "papermill": {
     "duration": 0.002987,
     "end_time": "2024-10-17T05:29:55.396590",
     "exception": false,
     "start_time": "2024-10-17T05:29:55.393603",
     "status": "completed"
    },
    "tags": []
   },
   "source": [
    "**Convert categorical Data to numeric**"
   ]
  },
  {
   "cell_type": "markdown",
   "id": "24a92074",
   "metadata": {
    "papermill": {
     "duration": 0.002937,
     "end_time": "2024-10-17T05:29:55.402662",
     "exception": false,
     "start_time": "2024-10-17T05:29:55.399725",
     "status": "completed"
    },
    "tags": []
   },
   "source": [
    "**Label Encoding for Ordinal Categories**"
   ]
  },
  {
   "cell_type": "code",
   "execution_count": 4,
   "id": "a4aa182a",
   "metadata": {
    "execution": {
     "iopub.execute_input": "2024-10-17T05:29:55.410525Z",
     "iopub.status.busy": "2024-10-17T05:29:55.410149Z",
     "iopub.status.idle": "2024-10-17T05:29:55.422880Z",
     "shell.execute_reply": "2024-10-17T05:29:55.421948Z"
    },
    "papermill": {
     "duration": 0.019507,
     "end_time": "2024-10-17T05:29:55.425324",
     "exception": false,
     "start_time": "2024-10-17T05:29:55.405817",
     "status": "completed"
    },
    "tags": []
   },
   "outputs": [
    {
     "name": "stdout",
     "output_type": "stream",
     "text": [
      "   total_bill   tip  sex  smoker  day  time  size  price_per_person  \\\n",
      "0       16.99  1.01    0       0    2     0     2              8.49   \n",
      "1       10.34  1.66    1       0    2     0     3              3.45   \n",
      "2       21.01  3.50    1       0    2     0     3              7.00   \n",
      "3       23.68  3.31    1       0    2     0     2             11.84   \n",
      "4       24.59  3.61    0       0    2     0     4              6.15   \n",
      "\n",
      "           Payer Name         CC Number Payment ID  \n",
      "0  Christy Cunningham  3560325168603410    Sun2959  \n",
      "1      Douglas Tucker  4478071379779230    Sun4608  \n",
      "2      Travis Walters  6011812112971322    Sun4458  \n",
      "3    Nathaniel Harris  4676137647685994    Sun5260  \n",
      "4        Tonya Carter  4832732618637221    Sun2251  \n"
     ]
    }
   ],
   "source": [
    "# Apply label Encoding\n",
    "label_encoder = LabelEncoder()\n",
    "\n",
    "df['sex']= label_encoder.fit_transform(df['sex'])\n",
    "df['smoker']=label_encoder.fit_transform(df['smoker'])\n",
    "df['day']=label_encoder.fit_transform(df['day'])\n",
    "df['time']=label_encoder.fit_transform(df['time'])\n",
    "\n",
    "#display the transformed data frame\n",
    "print(df.head())\n"
   ]
  },
  {
   "cell_type": "markdown",
   "id": "bea89bcb",
   "metadata": {
    "papermill": {
     "duration": 0.003036,
     "end_time": "2024-10-17T05:29:55.431669",
     "exception": false,
     "start_time": "2024-10-17T05:29:55.428633",
     "status": "completed"
    },
    "tags": []
   },
   "source": [
    "**One-Hot Encoding for Nominal Categories**"
   ]
  },
  {
   "cell_type": "code",
   "execution_count": 5,
   "id": "4d2b1d94",
   "metadata": {
    "execution": {
     "iopub.execute_input": "2024-10-17T05:29:55.439701Z",
     "iopub.status.busy": "2024-10-17T05:29:55.439096Z",
     "iopub.status.idle": "2024-10-17T05:29:55.460776Z",
     "shell.execute_reply": "2024-10-17T05:29:55.459518Z"
    },
    "papermill": {
     "duration": 0.027889,
     "end_time": "2024-10-17T05:29:55.462794",
     "exception": false,
     "start_time": "2024-10-17T05:29:55.434905",
     "status": "completed"
    },
    "tags": []
   },
   "outputs": [
    {
     "name": "stdout",
     "output_type": "stream",
     "text": [
      "   total_bill   tip  size  price_per_person          Payer Name  \\\n",
      "0       16.99  1.01     2              8.49  Christy Cunningham   \n",
      "1       10.34  1.66     3              3.45      Douglas Tucker   \n",
      "2       21.01  3.50     3              7.00      Travis Walters   \n",
      "3       23.68  3.31     2             11.84    Nathaniel Harris   \n",
      "4       24.59  3.61     4              6.15        Tonya Carter   \n",
      "\n",
      "          CC Number Payment ID  sex_1  smoker_1  day_1  day_2  day_3  time_1  \n",
      "0  3560325168603410    Sun2959  False     False  False   True  False   False  \n",
      "1  4478071379779230    Sun4608   True     False  False   True  False   False  \n",
      "2  6011812112971322    Sun4458   True     False  False   True  False   False  \n",
      "3  4676137647685994    Sun5260   True     False  False   True  False   False  \n",
      "4  4832732618637221    Sun2251  False     False  False   True  False   False  \n"
     ]
    }
   ],
   "source": [
    "# Apply One_Hot Encoding \n",
    "df_encoded= pd.get_dummies(df, columns=['sex','smoker','day','time'],drop_first=True)\n",
    "\n",
    "# Display the transformed dataframe\n",
    "print(df_encoded.head())"
   ]
  }
 ],
 "metadata": {
  "kaggle": {
   "accelerator": "none",
   "dataSources": [
    {
     "datasetId": 5683777,
     "sourceId": 9371539,
     "sourceType": "datasetVersion"
    }
   ],
   "dockerImageVersionId": 30761,
   "isGpuEnabled": false,
   "isInternetEnabled": false,
   "language": "python",
   "sourceType": "notebook"
  },
  "kernelspec": {
   "display_name": "Python 3",
   "language": "python",
   "name": "python3"
  },
  "language_info": {
   "codemirror_mode": {
    "name": "ipython",
    "version": 3
   },
   "file_extension": ".py",
   "mimetype": "text/x-python",
   "name": "python",
   "nbconvert_exporter": "python",
   "pygments_lexer": "ipython3",
   "version": "3.10.14"
  },
  "papermill": {
   "default_parameters": {},
   "duration": 4.822673,
   "end_time": "2024-10-17T05:29:55.884549",
   "environment_variables": {},
   "exception": null,
   "input_path": "__notebook__.ipynb",
   "output_path": "__notebook__.ipynb",
   "parameters": {},
   "start_time": "2024-10-17T05:29:51.061876",
   "version": "2.6.0"
  }
 },
 "nbformat": 4,
 "nbformat_minor": 5
}
